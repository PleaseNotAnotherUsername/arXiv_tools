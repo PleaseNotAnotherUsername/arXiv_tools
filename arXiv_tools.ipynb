{
 "cells": [
  {
   "cell_type": "code",
   "execution_count": 1,
   "metadata": {},
   "outputs": [],
   "source": [
    "import numpy as np\n",
    "import pandas as pd\n",
    "from datetime import datetime as dt, timedelta as td\n",
    "\n",
    "from arXiv_category_dict import arXiv_category_dict\n",
    "from arXiv_tools import query_arXiv"
   ]
  },
  {
   "cell_type": "code",
   "execution_count": 2,
   "metadata": {},
   "outputs": [
    {
     "name": "stdout",
     "output_type": "stream",
     "text": [
      "42\n"
     ]
    }
   ],
   "source": [
    "# Example usage\n",
    "articles = query_arXiv(categories=['cs.AI', 'cs.CL'], start_time=dt.utcnow()-td(days=3))\n",
    "print(len(articles))\n"
   ]
  },
  {
   "cell_type": "code",
   "execution_count": 4,
   "metadata": {},
   "outputs": [
    {
     "data": {
      "text/plain": [
       "I.2.6       1\n",
       "I.2.7       1\n",
       "cs.AI      36\n",
       "cs.CL      15\n",
       "cs.CR       6\n",
       "cs.CV      10\n",
       "cs.DB       1\n",
       "cs.GR       1\n",
       "cs.HC       1\n",
       "cs.IR       2\n",
       "cs.LG      12\n",
       "cs.MM       1\n",
       "cs.PL       1\n",
       "cs.RO       2\n",
       "cs.SD       3\n",
       "cs.SE       1\n",
       "cs.SI       1\n",
       "cs.SY       1\n",
       "eess.AS     3\n",
       "eess.SY     1\n",
       "math.OC     1\n",
       "dtype: int64"
      ]
     },
     "execution_count": 4,
     "metadata": {},
     "output_type": "execute_result"
    }
   ],
   "source": [
    "test = articles.drop(columns = ['categories']).join(articles['categories'].str.join(',').str.get_dummies(sep=',').astype(int))\n",
    "test.drop(columns = ['id', 'arxiv_doi', 'title', 'published', 'authors', 'arxiv_primary_category', 'summary',\n",
    "                     'arxiv_affiliation', 'arxiv_journal_ref']).sum()"
   ]
  }
 ],
 "metadata": {
  "kernelspec": {
   "display_name": "PytorchTutorial",
   "language": "python",
   "name": "python3"
  },
  "language_info": {
   "codemirror_mode": {
    "name": "ipython",
    "version": 3
   },
   "file_extension": ".py",
   "mimetype": "text/x-python",
   "name": "python",
   "nbconvert_exporter": "python",
   "pygments_lexer": "ipython3",
   "version": "3.11.4"
  },
  "orig_nbformat": 4
 },
 "nbformat": 4,
 "nbformat_minor": 2
}
