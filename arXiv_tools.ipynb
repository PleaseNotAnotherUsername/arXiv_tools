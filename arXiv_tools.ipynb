{
 "cells": [
  {
   "cell_type": "code",
   "execution_count": 96,
   "metadata": {},
   "outputs": [],
   "source": [
    "import pandas as pd\n",
    "import requests\n",
    "import feedparser\n",
    "from datetime import datetime as dt, timedelta as td"
   ]
  },
  {
   "cell_type": "code",
   "execution_count": 268,
   "metadata": {},
   "outputs": [
    {
     "name": "stdout",
     "output_type": "stream",
     "text": [
      "216\n"
     ]
    }
   ],
   "source": [
    "def query_arXiv(search_query='', categories=None, start_time=None, end_time=None, max_results=None):\n",
    "    \"\"\"\n",
    "    Query the arXiv API to retrieve a list of articles based on specified criteria.\n",
    "    \n",
    "    Args:\n",
    "        search_query (str): The search query string.\n",
    "        categories (list): A list of categories (e.g., ['cs.AI', 'cs.CL']) to filter the search. Default is None.\n",
    "        start_time (datetime): The start time for the search. Default is 24 hours ago.\n",
    "        end_time (datetime): The end time for the search. Default is now.\n",
    "        max_results (int): The maximum number of results to retrieve. Default is None (100 results). Set to a higher value for more results.\n",
    "        \n",
    "    Returns:\n",
    "        pandas.DataFrame: A DataFrame containing article information including title, published date, authors, categories, and summary.\n",
    "    \"\"\"\n",
    "    \n",
    "    if not max_results:\n",
    "        max_results = 100\n",
    "        expand_search = True\n",
    "    else:\n",
    "        expand_search = False\n",
    "\n",
    "    # Set default values if not provided\n",
    "    if start_time is None:\n",
    "        if dt.utcnow().hour > 18:\n",
    "            start_time = dt.utcnow() - td(days=1)\n",
    "        else:\n",
    "            start_time = dt.utcnow() - td(days=2)\n",
    "        start_time = start_time.replace(hour=18, minute=00)\n",
    "    if end_time is None:\n",
    "        end_time = dt.utcnow()\n",
    "\n",
    "    start_str = dt.strftime(start_time, '%Y%m%d%H%M')\n",
    "    end_str = dt.strftime(end_time, '%Y%m%d%H%M')\n",
    "\n",
    "    left_par = '%28'\n",
    "    right_par = '%29'\n",
    "\n",
    "    if categories:\n",
    "        categories_query = left_par + '+OR+'.join(['cat:' + cat for cat in categories]) + right_par\n",
    "        if len(search_query) > 0:\n",
    "            query = search_query + '+AND+' + categories_query\n",
    "        else:\n",
    "            query = categories_query\n",
    "    \n",
    "    query += f'+AND+submittedDate:[{start_str}+TO+{end_str}]'\n",
    "\n",
    "    # Prepare the query parameters\n",
    "    params = {\n",
    "        'sortBy': 'submittedDate',\n",
    "        'sortOrder': 'descending',\n",
    "        'start': 0,\n",
    "        'max_results': max_results\n",
    "    }\n",
    "\n",
    "    # Make the API request\n",
    "    response = requests.get(f'http://export.arxiv.org/api/query?search_query={query}', params=params)\n",
    "    if response.status_code == 200:\n",
    "        # Parse the XML response using feedparser\n",
    "        feed = feedparser.parse(response.content)\n",
    "        if len(feed.entries) == max_results and expand_search: # Recursive call if there are more than 100 papers in the timeframe\n",
    "            half_days = int((end_time-start_time).days/2)\n",
    "            articles1 = query_arXiv(categories=categories, start_time=start_time, end_time=end_time-td(days=half_days))\n",
    "            articles2 = query_arXiv(categories=categories, start_time=end_time-td(days=half_days), end_time=end_time)\n",
    "            articles = pd.concat([articles1, articles2], ignore_index=True)\n",
    "            return articles\n",
    "        articles = pd.DataFrame(columns = ['id', 'arxiv_doi', 'title', 'published', 'authors', 'arxiv_primary_category',\n",
    "                                           'categories', 'summary', 'arxiv_affiliation', 'arxiv_journal_ref'])\n",
    "        \n",
    "        for entry in feed.entries:\n",
    "            etime = dt.strptime(entry.published, '%Y-%m-%dT%H:%M:%SZ')\n",
    "            if 'arxiv_doi' in entry.keys():\n",
    "                doi = entry.arxiv_doi\n",
    "            else:\n",
    "                doi = ''\n",
    "            if 'arxiv_affiliation' in entry.keys():\n",
    "                arx_aff = entry.arxiv_affiliation\n",
    "            else:\n",
    "                arx_aff = ''\n",
    "            if 'arxiv_journal_ref' in entry.keys():\n",
    "                jref = entry.arxiv_journal_ref\n",
    "            else:\n",
    "                jref = ''\n",
    "            articles.loc[len(articles)] = [entry.id, doi, entry.title, etime, [author.name for author in entry.authors],\n",
    "                                           entry.arxiv_primary_category, [tag['term'] for tag in entry.tags],\n",
    "                                           entry.summary, arx_aff, jref]\n",
    "\n",
    "        return articles\n",
    "    else:\n",
    "        print('Error:', response.status_code)\n",
    "        return []\n",
    "\n",
    "# Example usage\n",
    "articles = query_arXiv(categories=['cs.AI', 'cs.CL'], start_time=dt.utcnow()-td(days=3))\n",
    "print(len(articles))\n"
   ]
  },
  {
   "cell_type": "code",
   "execution_count": 275,
   "metadata": {},
   "outputs": [
    {
     "data": {
      "text/plain": [
       "array(['', 'School of Computing, KAIST, Daejeon, Republic of Korea',\n",
       "       'Imperial College London, UK', 'IETR, INSA Rennes', 'LAAS-ROC',\n",
       "       'LIRIS, SyCoSMA', 'IRIT-SAMoVA'], dtype=object)"
      ]
     },
     "execution_count": 275,
     "metadata": {},
     "output_type": "execute_result"
    }
   ],
   "source": [
    "articles.arxiv_affiliation.unique()"
   ]
  },
  {
   "cell_type": "code",
   "execution_count": 276,
   "metadata": {},
   "outputs": [
    {
     "data": {
      "text/plain": [
       " 45Q05                                 1\n",
       " 68T05                                 1\n",
       " 90C31                                 1\n",
       "15A29                                  1\n",
       "68T01                                  1\n",
       "68T40                                  1\n",
       "F.2.2; I.2.7                           1\n",
       "H.4.0                                  1\n",
       "I.2.0; I.2.3; I.2.7; I.5.1; I.5.4      1\n",
       "I.2.0; I.5.0                           1\n",
       "I.2.10; I.3.7; I.4.0                   1\n",
       "I.2.6                                  1\n",
       "I.2; I.4; J.2                          1\n",
       "I.4.9; J.2; I.2.1                      1\n",
       "astro-ph.IM                            2\n",
       "astro-ph.SR                            1\n",
       "cond-mat.mtrl-sci                      1\n",
       "cs.AI                                176\n",
       "cs.CL                                 78\n",
       "cs.CR                                  5\n",
       "cs.CV                                 43\n",
       "cs.CY                                  5\n",
       "cs.DB                                  3\n",
       "cs.DC                                  2\n",
       "cs.FL                                  5\n",
       "cs.GR                                  2\n",
       "cs.GT                                  2\n",
       "cs.HC                                 10\n",
       "cs.IR                                 11\n",
       "cs.IT                                  2\n",
       "cs.LG                                 70\n",
       "cs.LO                                  7\n",
       "cs.MA                                  2\n",
       "cs.NA                                  1\n",
       "cs.NI                                  2\n",
       "cs.PF                                  2\n",
       "cs.PL                                  1\n",
       "cs.RO                                 16\n",
       "cs.SC                                  1\n",
       "cs.SD                                  7\n",
       "cs.SE                                  7\n",
       "cs.SI                                 10\n",
       "cs.SY                                  7\n",
       "eess.AS                                8\n",
       "eess.IV                                3\n",
       "eess.SP                                3\n",
       "eess.SY                                7\n",
       "math.IT                                2\n",
       "math.NA                                1\n",
       "physics.med-ph                         1\n",
       "physics.soc-ph                         2\n",
       "q-bio.BM                               1\n",
       "q-bio.NC                               2\n",
       "q-bio.TO                               2\n",
       "q-fin.CP                               1\n",
       "stat.ML                                2\n",
       "dtype: int64"
      ]
     },
     "execution_count": 276,
     "metadata": {},
     "output_type": "execute_result"
    }
   ],
   "source": [
    "test = articles.drop(columns = ['categories']).join(articles['categories'].str.join(',').str.get_dummies(sep=',').astype(int))\n",
    "test.drop(columns = ['id', 'arxiv_doi', 'title', 'published', 'authors', 'arxiv_primary_category', 'summary',\n",
    "                     'arxiv_affiliation', 'arxiv_journal_ref']).sum()"
   ]
  },
  {
   "cell_type": "code",
   "execution_count": 202,
   "metadata": {},
   "outputs": [
    {
     "name": "stdout",
     "output_type": "stream",
     "text": [
      "202308271800 202308291323\n",
      "84\n"
     ]
    }
   ],
   "source": [
    "if dt.utcnow().hour > 18:\n",
    "    start = dt.strftime((dt.utcnow() - td(days=1)).date(), '%Y%m%d')+'1800'\n",
    "else:\n",
    "    start = dt.strftime((dt.utcnow() - td(days=2)).date(), '%Y%m%d')+'1800'\n",
    "end = dt.strftime(dt.now(), '%Y%m%d%H%M')\n",
    "print(start, end)\n",
    "params = {\n",
    "    'start': 0,\n",
    "    'max_results': 100\n",
    "}\n",
    "response = requests.get(f'http://export.arxiv.org/api/query?search_query=%28cat:cs.AI+OR+cat:cs.CL%29+AND+submittedDate:[{start}+TO+{end}]', params=params)\n",
    "feed = feedparser.parse(response.content)\n",
    "print(len(feed.entries))"
   ]
  },
  {
   "cell_type": "code",
   "execution_count": 187,
   "metadata": {},
   "outputs": [
    {
     "data": {
      "text/plain": [
       "10"
      ]
     },
     "execution_count": 187,
     "metadata": {},
     "output_type": "execute_result"
    }
   ],
   "source": []
  },
  {
   "cell_type": "code",
   "execution_count": 142,
   "metadata": {},
   "outputs": [
    {
     "data": {
      "text/plain": [
       "False"
      ]
     },
     "execution_count": 142,
     "metadata": {},
     "output_type": "execute_result"
    }
   ],
   "source": [
    "query = 'cat:cs.AI+OR+cat:cs.CL'\n",
    "params1 = {\n",
    "    'sortBy': 'lastUpdatedDate',\n",
    "    'sortOrder': 'descending',\n",
    "    'start': 0,\n",
    "    'max_results': 100\n",
    "}\n",
    "params2 = {\n",
    "    'start': 0,\n",
    "    'max_results': 100\n",
    "}\n",
    "# Make the API request\n",
    "response1 = requests.get(f'http://export.arxiv.org/api/query?search_query={query}', params=params1)\n",
    "feed1 = feedparser.parse(response1.content)\n",
    "response2 = requests.get(f'http://export.arxiv.org/api/query?search_query={query}&sort_by=lastUpdatedDate&sortOrder=descending', params=params2)\n",
    "feed2 = feedparser.parse(response2.content)\n",
    "\n",
    "# feed = feedparser.parse(response.content)\n",
    "# len(feed.entries)\n",
    "\n",
    "feed1.entries==feed2.entries"
   ]
  },
  {
   "cell_type": "code",
   "execution_count": 146,
   "metadata": {},
   "outputs": [
    {
     "name": "stdout",
     "output_type": "stream",
     "text": [
      "2023-08-24T02:03:29Z 2013-04-28T19:30:11Z\n",
      "2023-07-07T04:20:36Z 2013-04-14T05:52:11Z\n",
      "2023-07-06T16:28:35Z 2013-03-27T19:52:35Z\n",
      "2023-04-04T23:41:20Z 2013-03-31T22:17:19Z\n",
      "2023-08-28T06:05:18Z 2013-01-13T19:33:31Z\n",
      "2023-08-21T10:37:49Z 2013-01-09T19:17:31Z\n",
      "2023-02-26T08:43:08Z 2012-12-12T15:56:22Z\n",
      "2023-08-28T06:10:26Z 2012-12-28T15:39:46Z\n",
      "2023-08-28T06:15:14Z 2012-12-02T18:06:57Z\n",
      "2023-08-28T06:17:15Z 2012-11-19T16:38:32Z\n"
     ]
    }
   ],
   "source": [
    "for i in range(10):\n",
    "    print(feed1.entries[-1-i]['published'], feed2.entries[-1-i]['published'])"
   ]
  }
 ],
 "metadata": {
  "kernelspec": {
   "display_name": "PytorchTutorial",
   "language": "python",
   "name": "python3"
  },
  "language_info": {
   "codemirror_mode": {
    "name": "ipython",
    "version": 3
   },
   "file_extension": ".py",
   "mimetype": "text/x-python",
   "name": "python",
   "nbconvert_exporter": "python",
   "pygments_lexer": "ipython3",
   "version": "3.10.6"
  },
  "orig_nbformat": 4
 },
 "nbformat": 4,
 "nbformat_minor": 2
}
